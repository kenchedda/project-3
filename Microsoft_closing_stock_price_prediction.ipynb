{
 "cells": [
  {
   "cell_type": "markdown",
   "metadata": {},
   "source": [
    "# Microsoft Corporation \"Stock Prediction\" using Neural Network"
   ]
  },
  {
   "cell_type": "markdown",
   "metadata": {},
   "source": [
    "### Sourab M (Roll No - 14CSE1024)"
   ]
  },
  {
   "cell_type": "markdown",
   "metadata": {},
   "source": [
    "#### Management Assignment 2 - Programming Assignment on one of the important Management topic - \"Stock Prices\".  Taking 10 years Data (5 Nov, 2007- 4 Nov, 2017) of one of the biggest firms, \"Microsoft Corporation\", and analyzed it to develop the model - \"Assignment of Analyzing a Firm from Management Point of View\"."
   ]
  },
  {
   "cell_type": "markdown",
   "metadata": {},
   "source": [
    "I will be using a Feedforward NeuralNetwork to predict the stock prices of Microsoft Corporation."
   ]
  },
  {
   "cell_type": "code",
   "execution_count": 11,
   "metadata": {},
   "outputs": [],
   "source": [
    "from __future__ import print_function, division\n",
    "import tensorflow as tf\n",
    "import numpy as np\n",
    "import csv\n",
    "import math\n",
    "import matplotlib.pyplot as plt\n",
    "import os\n",
    "import time\n",
    "import datetime"
   ]
  },
  {
   "cell_type": "code",
   "execution_count": 12,
   "metadata": {},
   "outputs": [
    {
     "name": "stdout",
     "output_type": "stream",
     "text": [
      "1.1.0\n",
      "1.13.0\n"
     ]
    }
   ],
   "source": [
    "print(tf.__version__)\n",
    "print(np.__version__)"
   ]
  },
  {
   "cell_type": "code",
   "execution_count": 13,
   "metadata": {
    "scrolled": true
   },
   "outputs": [
    {
     "name": "stdout",
     "output_type": "stream",
     "text": [
      "Date\tOpening_stock_price\tHigh_sp\tLow_sp\tVolume\tClosing_stock_price\n",
      "5-Nov-07 \t 36.76 \t\t 37.1 \t 36.63 \t 75485352.0 \t 36.73\n",
      "6-Nov-07 \t 36.59 \t\t 36.66 \t 35.87 \t 100966620.0 \t 36.41\n",
      "7-Nov-07 \t 36.04 \t\t 36.16 \t 35.45 \t 74897710.0 \t 35.52\n",
      "8-Nov-07 \t 35.6 \t\t 35.9 \t 34.4 \t 133748977.0 \t 34.74\n",
      "9-Nov-07 \t 34.18 \t\t 34.54 \t 33.65 \t 125132048.0 \t 33.73\n",
      "12-Nov-07 \t 33.32 \t\t 33.71 \t 33.02 \t 84865186.0 \t 33.38\n",
      "13-Nov-07 \t 33.54 \t\t 34.67 \t 33.38 \t 104311422.0 \t 34.46\n",
      "14-Nov-07 \t 34.62 \t\t 34.75 \t 33.75 \t 84063046.0 \t 33.93\n",
      "15-Nov-07 \t 33.76 \t\t 34.1 \t 33.55 \t 64014051.0 \t 33.76\n",
      "16-Nov-07 \t 33.86 \t\t 34.26 \t 33.71 \t 71116649.0 \t 34.09\n"
     ]
    },
    {
     "data": {
      "image/png": "[encoded data removed]",
      "text/plain": [
       "<matplotlib.figure.Figure at 0x7f0754482dd8>"
      ]
     },
     "metadata": {},
     "output_type": "display_data"
    }
   ],
   "source": [
    "with open('msft(2).csv') as csvfile:\n",
    "    readCSV = csv.reader(csvfile, delimiter=',')\n",
    "    data = list(readCSV)\n",
    "    dates = []\n",
    "    opening_stock_prices = []\n",
    "    high_sp = []\n",
    "    low_sp=[]\n",
    "    closing_stock_prices = []\n",
    "    volume = []\n",
    "    \n",
    "    for i in range(len(data)):\n",
    "        if i>=1:\n",
    "            #inputs taken by the model\n",
    "            dates.append(data[i][0])\n",
    "            opening_stock_prices.append(float(data[i][1]))\n",
    "            high_sp.append(float(data[i][2]))\n",
    "            low_sp.append(float(data[i][3]))\n",
    "            volume.append(float(data[i][5]))\n",
    "            #output to be predicted \n",
    "            closing_stock_prices.append(float(data[i][4]))\n",
    "            \n",
    "    dates.reverse()\n",
    "    opening_stock_prices.reverse()\n",
    "    high_sp.reverse() \n",
    "    low_sp.reverse()  \n",
    "    volume.reverse()   \n",
    "    closing_stock_prices.reverse() \n",
    "    \n",
    "    print(\"Date\\tOpening_stock_price\\tHigh_sp\\tLow_sp\\tVolume\\tClosing_stock_price\")\n",
    "    for i in range(10):\n",
    "       print(dates[i],\"\\t\",opening_stock_prices[i],\"\\t\\t\",high_sp[i],\"\\t\",low_sp[i],\"\\t\",volume[i],\"\\t\",closing_stock_prices[i])\n",
    "    \n",
    "    osp=np.array(opening_stock_prices)\n",
    "    osp_2 = np.array(np.power(osp, 2))\n",
    "    osp_3 = np.array(np.power(osp, 3))\n",
    "    csp=np.array(closing_stock_prices)\n",
    "   \n",
    "    hsp=np.array(high_sp)\n",
    "    hsp_2 = np.array(np.power(hsp, 2))\n",
    "    hsp_3 = np.array(np.power(hsp, 3))\n",
    "    \n",
    "    lsp=np.array(low_sp)\n",
    "    lsp_2 = np.array(np.power(lsp, 2))\n",
    "    lsp_3 = np.array(np.power(lsp, 3))\n",
    "    \n",
    "    v=np.array(volume)\n",
    "    #n_dates = (dates - np.mean(dates))/np.std(dates)\n",
    "    #print(osp-np.mean(osp))\n",
    "     \n",
    "    n_open_sp = (osp - np.mean(osp))/np.std(osp)\n",
    "    n_open_sp2 = (osp_2 - np.mean(osp_2))/np.std(osp_2)\n",
    "    n_open_sp3 = (osp_3 - np.mean(osp_3))/np.std(osp_3)\n",
    "    n_high_sp = (hsp - np.mean(hsp))/np.std(hsp)\n",
    "    n_high_sp2 = (hsp_2 - np.mean(hsp_2))/np.std(hsp_2)\n",
    "    n_high_sp3 = (hsp_3 - np.mean(hsp_3))/np.std(hsp_3)\n",
    "    n_low_sp = (lsp -np.mean(lsp))/np.std(lsp)\n",
    "    n_low_sp2 = (lsp_2 - np.mean(lsp_2))/np.std(lsp_2)\n",
    "    n_low_sp3 = (lsp_3 - np.mean(lsp_3))/np.std(lsp_3)\n",
    "    n_volume = (v - np.mean(v))/np.std(v)\n",
    "    n_close_sp = (csp - np.mean(csp))/np.std(csp)\n",
    "    \n",
    "    \n",
    "    \"\"\"print()\n",
    "    print(\"Date\\tOpening_stock_price\\tHigh_sp\\tLow_sp\\tVolume\\tClosing_stock_price\")\n",
    "    for i in range(10):\n",
    "       print(dates[i],n_open_sp[i],n_high_sp[i],n_low_sp[i],n_volume[i],n_close_sp[i])\"\"\"\n",
    "    \n",
    "    plt.plot(csp)\n",
    "    plt.xlabel(\"10 year period from 2007-2017\")\n",
    "    plt.ylabel(\"Closing Stock Price\")\n",
    "    plt.show()\n",
    "    \n",
    "    sp_data=[]\n",
    "    for i in range(len(osp)):\n",
    "        sp_data.append([n_open_sp[i],n_open_sp2[i],n_high_sp[i],n_low_sp[i],n_volume[i]])\n",
    "        #sp_data.append([osp[i],hsp[i],lsp[i]])\n",
    "    \"\"\"for i in range(10):\n",
    "        print(sp_data[i])\"\"\"\n",
    "    \n",
    "    sp_x = np.array(sp_data)\n",
    "    #print()\n",
    "    #print(sp_x.shape, sp_x.ndim)\n",
    "    \n",
    "    sp_y = np.array(csp)\n",
    "    #print(sp_y.shape, sp_y.ndim) \n",
    "    \n",
    "    random_indices = np.random.permutation(sp_x.shape[0])\n",
    "    sp_x_random = []\n",
    "    sp_y_random = []\n",
    "    for i in range(sp_x.shape[0]):\n",
    "        sp_x_random.append(sp_x[i, :])\n",
    "        sp_y_random.append(sp_y[i])\n",
    "        \n",
    "    sp_x_random = np.array(sp_x_random)\n",
    "    sp_y_random = np.array(sp_y_random)\n",
    "    \n",
    "    sp_x_train = sp_x_random[:int(0.6*sp_x.shape[0]),:]\n",
    "    sp_x_valid = sp_x_random[int(0.6*sp_x.shape[0]):int(0.6*sp_x.shape[0])+int(0.2*sp_x.shape[0]),:]\n",
    "    sp_x_test = sp_x_random[int(0.6*sp_x.shape[0])+int(0.2*sp_x.shape[0]):,:]\n",
    "    sp_y_train = sp_y_random[:int(0.6*sp_x.shape[0])]\n",
    "    sp_y_valid = sp_y_random[int(0.6*sp_x.shape[0]):int(0.6*sp_x.shape[0])+int(0.2*sp_x.shape[0])]\n",
    "    sp_y_test = sp_y_random[int(0.6*sp_x.shape[0])+int(0.2*sp_x.shape[0]):]\n",
    "    \n",
    "    train_size = sp_x_train.shape[0]\n",
    "    train_size = sp_x_valid.shape[0]\n",
    "    test_size = sp_x_test.shape[0]\n",
    "    #print(sp_x_train.dtype)\n",
    "    #print(sp_x_train.shape, sp_y_train.shape)\n",
    "    #print(sp_x_valid.shape, sp_y_valid.shape)\n",
    "    #print(sp_x_test.shape, sp_y_test.shape)\n",
    "    \n",
    "    \n",
    "    \n",
    "        \n",
    "       "
   ]
  },
  {
   "cell_type": "markdown",
   "metadata": {},
   "source": [
    "## Implementing FeedForward Neural Network Model to the data"
   ]
  },
  {
   "cell_type": "code",
   "execution_count": 23,
   "metadata": {
    "scrolled": true
   },
   "outputs": [
    {
     "name": "stdout",
     "output_type": "stream",
     "text": [
      "Writing to /home/sourab/Desktop/MGT_assignment/runs/1510216430\n",
      "\n",
      "Epoch: 0001 cost=134.713208008\n",
      "Epoch: 0051 cost=0.040591362\n",
      "Epoch: 0101 cost=0.010456086\n",
      "Epoch: 0151 cost=0.010175025\n",
      "Epoch: 0201 cost=0.010147455\n",
      "Epoch: 0251 cost=0.010134067\n",
      "Epoch: 0301 cost=0.010128439\n",
      "Epoch: 0351 cost=0.010129434\n",
      "Epoch: 0401 cost=0.010135950\n",
      "Epoch: 0451 cost=0.010147133\n",
      "Epoch: 0501 cost=0.010162111\n",
      "Epoch: 0551 cost=0.010180103\n",
      "Epoch: 0601 cost=0.010200365\n",
      "Epoch: 0651 cost=0.010222147\n",
      "Epoch: 0701 cost=0.010244969\n",
      "Epoch: 0751 cost=0.010268123\n",
      "Epoch: 0801 cost=0.010291213\n",
      "Epoch: 0851 cost=0.010313629\n",
      "Epoch: 0901 cost=0.010335033\n",
      "Epoch: 0951 cost=0.010355053\n",
      "Saved model checkpoint to /home/sourab/Desktop/MGT_assignment/runs/1510216430/checkpoints/model\n",
      "\n",
      "Optimization Finished!\n",
      "The loss on the test data = 0.248062\n",
      "Predicted_Stock_Price\tTrue_Stock_Price\n",
      "[ 83.32792046] \t 84.14\n",
      "[ 83.15534287] \t 84.05\n",
      "[ 82.67230299] \t 83.18\n",
      "[ 83.08187864] \t 83.18\n",
      "[ 83.058847] \t 83.89\n",
      "[ 84.23221427] \t 83.81\n",
      "[ 78.48656699] \t 78.76\n",
      "[ 77.9904725] \t 78.63\n",
      "[ 78.2549767] \t 78.86\n",
      "[ 78.46531595] \t 78.83\n"
     ]
    },
    {
     "data": {
      "image/png": "[encoded data removed]",
      "text/plain": [
       "<matplotlib.figure.Figure at 0x7f074c158588>"
      ]
     },
     "metadata": {},
     "output_type": "display_data"
    }
   ],
   "source": [
    "tf.reset_default_graph()\n",
    "\n",
    "\n",
    "\n",
    "# Parameters\n",
    "learning_rate = 0.179\n",
    "training_epochs = 1000\n",
    "batch_size = 100\n",
    "display_step = 50\n",
    "\n",
    "# Network Parameters\n",
    "#n_hidden_1 = 1024 # 1st layer number of neurons\n",
    "#n_hidden_2 = 1024 # 2nd layer number of neurons\n",
    "n_input = 5\n",
    "n_classes = 1 \n",
    "\n",
    "# tf Graph input\n",
    "X = tf.placeholder(\"float64\", [None, n_input], name=\"input_x\")\n",
    "Y = tf.placeholder(\"float64\", [None, n_classes], name=\"input_y\")\n",
    "\n",
    "\n",
    "# Store layers weight & bias\n",
    "weights = {\n",
    "    #'h1': tf.Variable(np.random.rand(n_input, n_hidden_1), dtype=tf.float64),\n",
    "    #'h2': tf.Variable(np.random.rand(n_hidden_1, n_hidden_2), dtype=tf.float64),\n",
    "    'out': tf.Variable(np.random.rand(n_input, n_classes), dtype=tf.float64, name=\"w\")\n",
    "}\n",
    "biases = {\n",
    "    #'b1': tf.Variable(np.random.rand(n_hidden_1), dtype=tf.float64),\n",
    "    #'b2': tf.Variable(np.random.rand(n_hidden_2), dtype=tf.float64),\n",
    "    'out': tf.Variable(np.random.rand(n_classes), dtype=tf.float64, name=\"b\")\n",
    "}\n",
    "\n",
    "# Create model\n",
    "def mlffnn(x):\n",
    "    # Hidden fully connected layer with 1024 neurons\n",
    "    #layer_1 = tf.sigmoid(tf.add(tf.matmul(x, weights['h1']), biases['b1']))\n",
    "    # Hidden fully connected layer with 1024 neurons\n",
    "    #layer_2 = tf.sigmoid(tf.add(tf.matmul(layer_1, weights['h2']), biases['b2']))\n",
    "    # Output fully connected layer with a neuron for each class\n",
    "    out_layer = tf.add(tf.matmul(x, weights['out']),biases['out'], name=\"predictions\")\n",
    "    return out_layer\n",
    "\n",
    "# Construct model\n",
    "logits = mlffnn(X)\n",
    "\n",
    "\n",
    "# Define loss and optimizer\n",
    "loss_op = tf.reduce_mean(tf.losses.mean_squared_error(predictions=logits, labels=Y), name=\"loss\")\n",
    "optimizer =  tf.train.GradientDescentOptimizer(learning_rate=learning_rate)\n",
    "train_op = optimizer.minimize(loss_op)\n",
    "\n",
    "def nextbatch(i):\n",
    "    #returns next batch\n",
    "    batch_X = sp_x_train[(batch_size*i):(batch_size*(i+1)),:]\n",
    "    batch_Y = sp_y_train[(batch_size*i):(batch_size*(i+1))]\n",
    "    return(batch_X,batch_Y)\n",
    "\n",
    "# Output directory for models and summaries\n",
    "timestamp = str(int(time.time()))\n",
    "out_dir = os.path.abspath(os.path.join(os.path.curdir, \"runs\", timestamp))\n",
    "print(\"Writing to {}\\n\".format(out_dir))\n",
    "\n",
    "# Checkpoint directory. Tensorflow assumes this directory already exists so we need to create it\n",
    "checkpoint_dir = os.path.abspath(os.path.join(out_dir, \"checkpoints\"))\n",
    "checkpoint_prefix = os.path.join(checkpoint_dir, \"model\")\n",
    "if not os.path.exists(checkpoint_dir):\n",
    "    os.makedirs(checkpoint_dir)\n",
    "saver = tf.train.Saver(tf.global_variables(), max_to_keep=1)\n",
    "\n",
    "\n",
    "# Initializing the variables\n",
    "init = tf.global_variables_initializer()\n",
    "\n",
    "with tf.Session() as sess:\n",
    "    sess.run(init)\n",
    "\n",
    "    # Training cycle\n",
    "    for epoch in range(training_epochs):\n",
    "        avg_cost = 0\n",
    "        num_batches = train_size//batch_size\n",
    "        \n",
    "        # Loop over all batches\n",
    "        for i in range(num_batches):\n",
    "            (batch_X,batch_Y) = nextbatch(i)\n",
    "            \n",
    "            # Run optimization op (backprop) and cost op (to get loss value)\n",
    "            _, cost = sess.run([train_op, loss_op], feed_dict={X: batch_X,Y: batch_Y.reshape(-1,1)})\n",
    "    \n",
    "        # Compute average loss\n",
    "        avg_cost += cost / num_batches\n",
    "        # Display logs per epoch step\n",
    "        if epoch % display_step == 0:\n",
    "            print(\"Epoch:\", '%04d' % (epoch+1), \"cost={:.9f}\".format(avg_cost))\n",
    "     \n",
    "    path = saver.save(sess, checkpoint_prefix)\n",
    "    print(\"Saved model checkpoint to {}\\n\".format(path))\n",
    "    print(\"Optimization Finished!\")\n",
    "    \n",
    "    # Testing phase\n",
    "    logits, cost = sess.run([logits, loss_op], feed_dict={X: sp_x_test,Y: sp_y_test.reshape(-1,1)})\n",
    "    \n",
    "    print(\"The loss on the test data =\",cost)\n",
    "    print(\"Predicted_Stock_Price\\tTrue_Stock_Price\")\n",
    "    for i in range(10):\n",
    "        print(logits[-(i+1)],\"\\t\",sp_y_test[-(i+1)])\n",
    "        \n",
    "\n",
    "    plt.plot(logits,'r',sp_y_test,'b')\n",
    "    plt.show()"
   ]
  },
  {
   "cell_type": "code",
   "execution_count": 24,
   "metadata": {},
   "outputs": [
    {
     "name": "stdout",
     "output_type": "stream",
     "text": [
      "Date\tOpening_stock_price\tHigh_sp\tLow_sp\t Volume\t\tClosing_stock_price\tPredicted_Closing_Stock_by_FNN\n",
      "3-Nov-17 \t 84.08 \t\t 84.54 \t 83.4 \t 17633543.0 \t 84.14 \t\t\t [ 83.32792046]\n",
      "2-Nov-17 \t 83.35 \t\t 84.46 \t 83.12 \t 23992945.0 \t 84.05 \t\t\t [ 83.15534287]\n",
      "1-Nov-17 \t 83.68 \t\t 83.76 \t 82.88 \t 22307371.0 \t 83.18 \t\t\t [ 82.67230299]\n",
      "31-Oct-17 \t 84.36 \t\t 84.36 \t 83.11 \t 27086575.0 \t 83.18 \t\t\t [ 83.08187864]\n",
      "30-Oct-17 \t 83.7 \t\t 84.32 \t 83.1 \t 31756653.0 \t 83.89 \t\t\t [ 83.058847]\n",
      "27-Oct-17 \t 84.37 \t\t 86.2 \t 83.61 \t 71066729.0 \t 83.81 \t\t\t [ 84.23221427]\n",
      "26-Oct-17 \t 79.2 \t\t 79.42 \t 78.75 \t 32120717.0 \t 78.76 \t\t\t [ 78.48656699]\n",
      "25-Oct-17 \t 78.58 \t\t 79.1 \t 78.01 \t 20410808.0 \t 78.63 \t\t\t [ 77.9904725]\n",
      "24-Oct-17 \t 78.9 \t\t 79.2 \t 78.46 \t 17517182.0 \t 78.86 \t\t\t [ 78.2549767]\n",
      "23-Oct-17 \t 78.99 \t\t 79.34 \t 78.76 \t 20627173.0 \t 78.83 \t\t\t [ 78.46531595]\n",
      "20-Oct-17 \t 78.32 \t\t 78.97 \t 78.22 \t 22866426.0 \t 78.81 \t\t\t [ 78.02137245]\n",
      "19-Oct-17 \t 77.57 \t\t 77.93 \t 77.35 \t 15092758.0 \t 77.91 \t\t\t [ 77.08248117]\n",
      "18-Oct-17 \t 77.67 \t\t 77.85 \t 77.37 \t 13300701.0 \t 77.61 \t\t\t [ 77.05085738]\n",
      "17-Oct-17 \t 77.47 \t\t 77.62 \t 77.25 \t 16823989.0 \t 77.59 \t\t\t [ 76.87155912]\n",
      "16-Oct-17 \t 77.42 \t\t 77.81 \t 77.35 \t 12380093.0 \t 77.65 \t\t\t [ 77.02437617]\n",
      "13-Oct-17 \t 77.59 \t\t 77.87 \t 77.29 \t 15335742.0 \t 77.49 \t\t\t [ 77.02213882]\n",
      "12-Oct-17 \t 76.49 \t\t 77.29 \t 76.37 \t 16876538.0 \t 77.12 \t\t\t [ 76.29419779]\n",
      "11-Oct-17 \t 76.36 \t\t 76.46 \t 75.95 \t 15388898.0 \t 76.42 \t\t\t [ 75.66327749]\n",
      "10-Oct-17 \t 76.33 \t\t 76.63 \t 76.14 \t 13944545.0 \t 76.29 \t\t\t [ 75.84426398]\n",
      "9-Oct-17 \t 75.97 \t\t 76.55 \t 75.86 \t 11386502.0 \t 76.29 \t\t\t [ 75.67724327]\n"
     ]
    }
   ],
   "source": [
    "\n",
    "print(\"Date\\tOpening_stock_price\\tHigh_sp\\tLow_sp\\t Volume\\t\\tClosing_stock_price\\tPredicted_Closing_Stock_by_FNN\")\n",
    "for i in range(20):\n",
    "        print(dates[-(i+1)],\"\\t\",opening_stock_prices[-(i+1)],\"\\t\\t\",high_sp[-(i+1)],\"\\t\",low_sp[-(i+1)],\"\\t\",volume[-(i+1)],\"\\t\",closing_stock_prices[-(i+1)],\"\\t\\t\\t\",logits[-(i+1)])"
   ]
  },
  {
   "cell_type": "markdown",
   "metadata": {},
   "source": [
    "Above, you can see the 'Dates', 'Opening Stock Price', 'Range(High & Low)', 'Volume', 'Closing Stock Price' and 'Predicted closing Stock Price' of Microsoft Corporation for the past 20 days(9th oct,2017 - 3rd Nov,2017). It can been clearly seen that Predicted and Actual Closing Stock Prices are pretty much the same. The Neural Network Model developed here successfully does the prediction of Stock Prices. The Model takes 'Opening Stock Price', 'Range(High & Low)' and 'Volume' as input, to compute the output, i.e, 'Closing Stock Price'."
   ]
  },
  {
   "cell_type": "code",
   "execution_count": 25,
   "metadata": {},
   "outputs": [
    {
     "data": {
      "image/png": "[encoded data removed]",
      "text/plain": [
       "<matplotlib.figure.Figure at 0x7f0747e22e48>"
      ]
     },
     "metadata": {},
     "output_type": "display_data"
    }
   ],
   "source": [
    "plt.plot(logits,'r',sp_y_test,'b')\n",
    "plt.xlabel(\"10 year period from 2007-2017\")\n",
    "plt.ylabel(\"Closing Stock Price\")\n",
    "plt.title(\"Microsoft Corporation Stock Prediction\")\n",
    "plt.show()"
   ]
  },
  {
   "cell_type": "markdown",
   "metadata": {},
   "source": [
    "In the above graph, the \"Red\" line represents the \"Predicted stock Price\" and \"Blue\" line represents the \"Actual Stock Price\". Predicted values are almost same as Actual Values. So, I have successfully developed a Stock Prediction Model for Microsoft Corporation using the data of past 10 years from Nov 5,2007 to Nov 4,2017. "
   ]
  },
  {
   "cell_type": "markdown",
   "metadata": {},
   "source": [
    "### As part of Management Assignment, I have done the \"Programming Assignment\" related to the interesting and important aspect of Management. I have also taken data of one of the biggest corporations in the world, i.e., Microsoft Corporation, and analyzed it to develop my model, thereby also doing  the assignment of \"Analyzing a Firm from the Management point of view\"."
   ]
  },
  {
   "cell_type": "code",
   "execution_count": 36,
   "metadata": {},
   "outputs": [
    {
     "name": "stdout",
     "output_type": "stream",
     "text": [
      "INFO:tensorflow:Restoring parameters from /home/sourab/Desktop/MGT_assignment/runs/1510216430/checkpoints/model\n",
      "[ 3.2419685   4.19201627  3.23883985  3.25534662 -1.04148947]\n",
      "Today's closing stock price predicted:  [ 83.5647104]\n"
     ]
    }
   ],
   "source": [
    "checkpoint_file = tf.train.latest_checkpoint(\"/home/sourab/Desktop/MGT_assignment/runs/1510216430/checkpoints\")\n",
    "graph = tf.Graph()\n",
    "with graph.as_default():\n",
    "    sess = tf.Session()\n",
    "    with sess.as_default():\n",
    "        # Load the saved meta graph and restore variables\n",
    "        saver = tf.train.import_meta_graph(\"{}.meta\".format(checkpoint_file))\n",
    "        saver.restore(sess, checkpoint_file)\n",
    "\n",
    "        # Get the placeholders from the graph by name\n",
    "        input_x = graph.get_operation_by_name(\"input_x\").outputs[0]\n",
    "        # input_y = graph.get_operation_by_name(\"input_y\").outputs[0]\n",
    "       \n",
    "        # Tensors we want to evaluate\n",
    "        predictions = graph.get_operation_by_name(\"predictions\").outputs[0]\n",
    "\n",
    "\n",
    "        open_sp = 84.14\n",
    "        open_sp2 = open_sp**2\n",
    "        high_sp = 84.61\n",
    "        low_sp = 83.83\n",
    "        volume = 19400000 \n",
    "\n",
    "        n_osp = (open_sp-np.mean(osp))/np.std(osp)\n",
    "        n_osp2= (open_sp2-np.mean(osp_2))/np.std(osp_2)\n",
    "        n_hsp = (high_sp-np.mean(hsp))/np.std(hsp)\n",
    "        n_lsp = (low_sp-np.mean(lsp))/np.std(lsp)\n",
    "        n_v = (volume-np.mean(v))/np.std(v)\n",
    "\n",
    "        todays_input = [n_osp, n_osp2, n_hsp, n_lsp, n_v]\n",
    "        todays_input = np.array(todays_input)\n",
    "\n",
    "        print(todays_input)\n",
    "\n",
    "        logits = sess.run(predictions, feed_dict={input_x: todays_input.reshape(1, -1)})\n",
    "\n",
    "        print(\"Today's closing stock price predicted: \", logits[0])"
   ]
  }
 ],
 "metadata": {
  "kernelspec": {
   "display_name": "Python 3",
   "language": "python",
   "name": "python3"
  },
  "language_info": {
   "codemirror_mode": {
    "name": "ipython",
    "version": 3
   },
   "file_extension": ".py",
   "mimetype": "text/x-python",
   "name": "python",
   "nbconvert_exporter": "python",
   "pygments_lexer": "ipython3",
   "version": "3.6.1"
  }
 },
 "nbformat": 4,
 "nbformat_minor": 2
}
